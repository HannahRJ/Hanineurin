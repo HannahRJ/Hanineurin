{
 "cells": [
  {
   "cell_type": "markdown",
   "metadata": {},
   "source": [
    "# ASSIGNMENT-2"
   ]
  },
  {
   "cell_type": "markdown",
   "metadata": {},
   "source": [
    "## Task 1:"
   ]
  },
  {
   "cell_type": "markdown",
   "metadata": {},
   "source": [
    "### 1.1 Write a Python Program to implement your own myreduce() function which works exactly like Python's built-in function reduce()\n"
   ]
  },
  {
   "cell_type": "code",
   "execution_count": 9,
   "metadata": {},
   "outputs": [
    {
     "name": "stdout",
     "output_type": "stream",
     "text": [
      "The Sum of the list: 10\n",
      "The product of the list: 24\n"
     ]
    }
   ],
   "source": [
    "lista=[1,2,3,4]\n",
    "def myreduce(funck,listy):\n",
    "    x = listy[0] \n",
    "    for i in range(1,len(listy)):\n",
    "        x = funck(x,listy[i])\n",
    "    return x\n",
    "\n",
    "def summation(a,b):\n",
    "    return a+b\n",
    "\n",
    "def product(a,b):\n",
    "    return a*b\n",
    "\n",
    "print(\"The Sum of the list:\",myreduce(summation,lista))\n",
    "print(\"The product of the list:\",myreduce(product,lista))"
   ]
  },
  {
   "cell_type": "markdown",
   "metadata": {},
   "source": [
    "### 1.2 Write a Python program to implement your own myfilter() function which works exactly like Python's built-in function filter()\n"
   ]
  },
  {
   "cell_type": "code",
   "execution_count": 10,
   "metadata": {},
   "outputs": [
    {
     "name": "stdout",
     "output_type": "stream",
     "text": [
      "The Even NOs Sequence: [2, 4, 6, 8, 10, 12, 14]\n",
      "The Multiple of 4's sequence: [4, 8, 12]\n"
     ]
    }
   ],
   "source": [
    "listu=[1,2,3,4,5,6,7,8,9,10,11,12,13,14,15]\n",
    "b=[ ]\n",
    "c= []\n",
    "def myfilter(funcky,listy):  \n",
    "    for i in range(0,len(listy)):\n",
    "        x=funcky(listy[i])\n",
    "    return x\n",
    "\n",
    "def evenchk(v):\n",
    "    if v%2==0:\n",
    "        b.append(v)\n",
    "    return b\n",
    "\n",
    "def mulfour(m):\n",
    "    if m%4 == 0:\n",
    "        c.append(m)\n",
    "    return c\n",
    "\n",
    "print(\"The Even NOs Sequence:\",myfilter(evenchk,listu))\n",
    "print(\"The Multiple of 4's sequence:\",myfilter(mulfour,listu))"
   ]
  },
  {
   "cell_type": "markdown",
   "metadata": {},
   "source": [
    "### 2.Implement List comprehensions to produce the following lists.\n",
    "Write List comprehensions to produce the following Lists"
   ]
  },
  {
   "cell_type": "markdown",
   "metadata": {},
   "source": [
    "#### Pattern:['A', 'C', 'A', 'D', 'G', 'I', ’L’, ‘ D’]\n"
   ]
  },
  {
   "cell_type": "code",
   "execution_count": 11,
   "metadata": {},
   "outputs": [
    {
     "data": {
      "text/plain": [
       "['A', 'C', 'A', 'D', 'G', 'I', 'L', 'D']"
      ]
     },
     "execution_count": 11,
     "metadata": {},
     "output_type": "execute_result"
    }
   ],
   "source": [
    "list1=[\"a\",\"c\",\"a\",\"d\",\"g\",\"i\",\"l\",\"d\"]\n",
    "[i.upper() for i in list1]"
   ]
  },
  {
   "cell_type": "markdown",
   "metadata": {},
   "source": [
    "#### Pattern: ['x', 'xx', 'xxx', 'xxxx', 'y', 'yy', 'yyy', 'yyyy', 'z', 'zz', 'zzz', 'zzzz']\n",
    "\n"
   ]
  },
  {
   "cell_type": "code",
   "execution_count": 12,
   "metadata": {},
   "outputs": [
    {
     "data": {
      "text/plain": [
       "['x', 'xx', 'xxx', 'xxxx', 'y', 'yy', 'yyy', 'yyyy', 'z', 'zz', 'zzz', 'zzzz']"
      ]
     },
     "execution_count": 12,
     "metadata": {},
     "output_type": "execute_result"
    }
   ],
   "source": [
    "list2=[\"x\",\"y\",\"z\"]\n",
    "repno=4\n",
    "[ i*j for i in list2 for j in range(1,repno+1)]"
   ]
  },
  {
   "cell_type": "markdown",
   "metadata": {},
   "source": [
    "#### Pattern: ['x', 'y', 'z', 'xx', 'yy', 'zz', 'xx', 'yy', 'zz', 'xxxx', 'yyyy', 'zzzz']\n",
    "\n"
   ]
  },
  {
   "cell_type": "code",
   "execution_count": 13,
   "metadata": {},
   "outputs": [
    {
     "data": {
      "text/plain": [
       "['x', 'y', 'z', 'xx', 'yy', 'zz', 'xxx', 'yyy', 'zzz', 'xxxx', 'yyyy', 'zzzz']"
      ]
     },
     "execution_count": 13,
     "metadata": {},
     "output_type": "execute_result"
    }
   ],
   "source": [
    "list3=[\"x\",\"y\",\"z\"]\n",
    "repno=4\n",
    "[j *i for i in range(1,repno+1) for j in list3]"
   ]
  },
  {
   "cell_type": "markdown",
   "metadata": {},
   "source": [
    "#### Pattern:[[2], [3], [4], [3], [4], [5], [4], [5], [6]]\n",
    "\n"
   ]
  },
  {
   "cell_type": "code",
   "execution_count": 14,
   "metadata": {},
   "outputs": [
    {
     "data": {
      "text/plain": [
       "[[2], [3], [4], [3], [4], [5], [4], [5], [6]]"
      ]
     },
     "execution_count": 14,
     "metadata": {},
     "output_type": "execute_result"
    }
   ],
   "source": [
    "list4=[2,3,4]\n",
    "[[j +i] for i in range(0,len(list4)) for j in list4]"
   ]
  },
  {
   "cell_type": "markdown",
   "metadata": {},
   "source": [
    "#### Pattern:[[2, 3, 4, 5], [3, 4, 5, 6], [4, 5, 6, 7], [5, 6, 7, 8]]\n",
    "\n"
   ]
  },
  {
   "cell_type": "code",
   "execution_count": 15,
   "metadata": {},
   "outputs": [
    {
     "data": {
      "text/plain": [
       "[[2, 3, 4, 5], [3, 4, 5, 6], [4, 5, 6, 7], [5, 6, 7, 8]]"
      ]
     },
     "execution_count": 15,
     "metadata": {},
     "output_type": "execute_result"
    }
   ],
   "source": [
    "list4=[2,3,4,5]\n",
    "[[j+i for i in list4] for j in range(0,4) ]"
   ]
  },
  {
   "cell_type": "markdown",
   "metadata": {},
   "source": [
    "#### Pattern:[(1, 1), (2, 1), (3, 1), (1, 2), (2, 2), (3, 2), (1, 3), (2, 3), (3, 3)]"
   ]
  },
  {
   "cell_type": "code",
   "execution_count": 31,
   "metadata": {},
   "outputs": [
    {
     "data": {
      "text/plain": [
       "[(1, 1), (2, 1), (3, 1), (1, 2), (2, 2), (3, 2), (1, 3), (2, 3), (3, 3)]"
      ]
     },
     "execution_count": 31,
     "metadata": {},
     "output_type": "execute_result"
    }
   ],
   "source": [
    "list5=[1,2,3]\n",
    "[(j,i) for i in range(1,4) for j in list5]"
   ]
  },
  {
   "cell_type": "markdown",
   "metadata": {},
   "source": [
    "### 3. Implement a function longestWord() that takes a list of words and returns the longest one."
   ]
  },
  {
   "cell_type": "code",
   "execution_count": 16,
   "metadata": {},
   "outputs": [
    {
     "data": {
      "text/plain": [
       "['pneumonoultramicroscopicsilicovolcanoconiosis']"
      ]
     },
     "execution_count": 16,
     "metadata": {},
     "output_type": "execute_result"
    }
   ],
   "source": [
    "lst = \"The longest word in english is pneumonoultramicroscopicsilicovolcanoconiosis\"\n",
    "def longestWord(klist):\n",
    "    c=klist.split(\" \")\n",
    "    g=[ ]\n",
    "    l=[ ]\n",
    "    [g.append(len(c[i])) for i in range(len(c))]\n",
    "    maxi=max(g)\n",
    "    [l.append(c[j]) for j in range(len(c)) if len(c[j])>=maxi]\n",
    "    \n",
    "    return l\n",
    "longestWord(lst)"
   ]
  },
  {
   "cell_type": "markdown",
   "metadata": {},
   "source": [
    "## Task 2:\n"
   ]
  },
  {
   "cell_type": "markdown",
   "metadata": {},
   "source": [
    "### 1.1 Write a Python Program(with class concepts) to find the area of the triangle using the below formula \n",
    "### area = (s*(s-a)*(s-b)*(s-c)) ** 0.5\n",
    "### Function to take the length of the sides of triangle from user should be defined in the parent class and function to calculate the area should be defined in subclass.\n"
   ]
  },
  {
   "cell_type": "code",
   "execution_count": 17,
   "metadata": {},
   "outputs": [
    {
     "name": "stdout",
     "output_type": "stream",
     "text": [
      "Enter the side1:5\n",
      "Enter the side2:12\n",
      "Enter the side3:16\n"
     ]
    },
    {
     "data": {
      "text/plain": [
       "20.662465970933866"
      ]
     },
     "execution_count": 17,
     "metadata": {},
     "output_type": "execute_result"
    }
   ],
   "source": [
    "class Triside():\n",
    "    def __init__(self,a,b,c):\n",
    "        self.side1=a\n",
    "        self.side2=b\n",
    "        self.side3=c\n",
    "    def prntside(self):\n",
    "        print(\"The Side of the triangle is:\",self.side1,self.side2,self.side3)\n",
    "class AreaTri(Triside):\n",
    "    def areacal(self):\n",
    "        s=(self.side1+self.side2+self.side3)/2\n",
    "        arc=s*(s-self.side1)*(s-self.side2)*(s-self.side3)\n",
    "        area=pow(arc ,0.5)\n",
    "       \n",
    "        return area\n",
    "s1=int(input(\"Enter the side1:\"))\n",
    "s2=int(input(\"Enter the side2:\"))\n",
    "s3=int(input(\"Enter the side3:\"))\n",
    "#obj1=AreaTri(5,12,16)\n",
    "obj1=AreaTri(s1,s2,s3)\n",
    "obj1.areacal()"
   ]
  },
  {
   "cell_type": "markdown",
   "metadata": {},
   "source": [
    "### 1.2 Write a function filter_long_words() that takes a list of words and an integer n and returns the list of words that are longer than n.\n"
   ]
  },
  {
   "cell_type": "code",
   "execution_count": 20,
   "metadata": {},
   "outputs": [
    {
     "name": "stdout",
     "output_type": "stream",
     "text": [
      "Enter the length:6\n",
      "The longest word in the List with length > 6\n"
     ]
    },
    {
     "data": {
      "text/plain": [
       "['elephant', 'friends']"
      ]
     },
     "execution_count": 20,
     "metadata": {},
     "output_type": "execute_result"
    }
   ],
   "source": [
    "paray=\"The ant and the elephant were best friends\"\n",
    "n=int(input(\"Enter the length:\"))\n",
    "def filter_long_words(lsty,n):\n",
    "            slt=paray.split(\" \")\n",
    "            klist=[ ]\n",
    "            [klist.append(slt[i]) for i in range(len(slt)) if len(slt[i])> n]  \n",
    "            print(\"The longest word in the List with length >\",n)\n",
    "            return klist\n",
    "\n",
    "filter_long_words(paray,n)\n",
    "    "
   ]
  },
  {
   "cell_type": "markdown",
   "metadata": {},
   "source": [
    "### 2.1 Write a Python program using function concept that maps list of words into a list of integers representing the lengths of the corresponding words .\n",
    "### Hint: If a list [ ab,cde,erty] is passed on to the python function output should come as [2,3,4]\n",
    "### Here 2,3 and 4 are the lengths of the words in the list.\n"
   ]
  },
  {
   "cell_type": "code",
   "execution_count": 21,
   "metadata": {},
   "outputs": [
    {
     "name": "stdout",
     "output_type": "stream",
     "text": [
      "Length of each character in List:\n"
     ]
    },
    {
     "data": {
      "text/plain": [
       "[1, 2, 3, 4, 5, 7, 1]"
      ]
     },
     "execution_count": 21,
     "metadata": {},
     "output_type": "execute_result"
    }
   ],
   "source": [
    "lst1=[\"a\",\"ab\",\"abc\",\"abcd\",\"abcde\",\"abcdefg\",\" \"]\n",
    "nm=[]\n",
    "def wordcnt(lst1):\n",
    "    [nm.append(len(lst1[i])) for i in range(len(lst1))]\n",
    "    print(\"Length of each character in List:\")\n",
    "    return nm\n",
    "wordcnt(lst1)"
   ]
  },
  {
   "cell_type": "markdown",
   "metadata": {},
   "source": [
    "### 2.2 Write a Python function which takes a character (i.e. a string of length 1) and returns True if it is a vowel, False otherwise."
   ]
  },
  {
   "cell_type": "code",
   "execution_count": 24,
   "metadata": {},
   "outputs": [
    {
     "name": "stdout",
     "output_type": "stream",
     "text": [
      "Enter a character:u\n",
      "Result:\n"
     ]
    },
    {
     "data": {
      "text/plain": [
       "True"
      ]
     },
     "execution_count": 24,
     "metadata": {},
     "output_type": "execute_result"
    }
   ],
   "source": [
    "sd=[\"a\",\"e\",\"i\",\"o\",\"u\"]\n",
    "wordinp=input(\"Enter a character:\")\n",
    "def vow(n):\n",
    "    l=n.lower()\n",
    "    for i in sd:\n",
    "        if i == l:\n",
    "            print(\"Result:\")\n",
    "            return(True)\n",
    "    else:\n",
    "        print(\"Result:\")\n",
    "        return(False)\n",
    "vow(wordinp)"
   ]
  }
 ],
 "metadata": {
  "kernelspec": {
   "display_name": "Python 3",
   "language": "python",
   "name": "python3"
  },
  "language_info": {
   "codemirror_mode": {
    "name": "ipython",
    "version": 3
   },
   "file_extension": ".py",
   "mimetype": "text/x-python",
   "name": "python",
   "nbconvert_exporter": "python",
   "pygments_lexer": "ipython3",
   "version": "3.7.4"
  }
 },
 "nbformat": 4,
 "nbformat_minor": 2
}
